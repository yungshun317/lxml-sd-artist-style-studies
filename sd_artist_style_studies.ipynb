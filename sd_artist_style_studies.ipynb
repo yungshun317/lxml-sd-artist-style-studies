{
 "cells": [
  {
   "cell_type": "code",
   "execution_count": null,
   "id": "69e00bf9-692a-4bfe-a189-31e962edc37d",
   "metadata": {},
   "outputs": [],
   "source": [
    "!pip3 install cssselect"
   ]
  },
  {
   "cell_type": "code",
   "execution_count": 1,
   "id": "737e3439-867c-4d1b-865b-a1b015e2a8c7",
   "metadata": {},
   "outputs": [
    {
     "name": "stderr",
     "output_type": "stream",
     "text": [
      "IOPub data rate exceeded.\n",
      "The Jupyter server will temporarily stop sending output\n",
      "to the client in order to avoid crashing it.\n",
      "To change this limit, set the config variable\n",
      "`--ServerApp.iopub_data_rate_limit`.\n",
      "\n",
      "Current values:\n",
      "ServerApp.iopub_data_rate_limit=1000000.0 (bytes/sec)\n",
      "ServerApp.rate_limit_window=3.0 (secs)\n",
      "\n"
     ]
    }
   ],
   "source": [
    "from lxml import etree, html\n",
    "\n",
    "html_filename = '/home/yungshun317/workspace/py/lxml-sd-artist-style-studies/sd_artist_style_studies.html'\n",
    "\n",
    "parser = etree.HTMLParser(encoding='utf-8')\n",
    "tree = etree.parse(html_filename, parser=parser)\n",
    "print(etree.tostring(tree))"
   ]
  },
  {
   "cell_type": "code",
   "execution_count": 7,
   "id": "9a39df41-9d61-4319-91eb-4e173588b0f7",
   "metadata": {},
   "outputs": [
    {
     "name": "stdout",
     "output_type": "stream",
     "text": [
      "1659\n"
     ]
    }
   ],
   "source": [
    "# Get all items\n",
    "elements = tree.getroot()\n",
    "items = elements.cssselect(\"div[class*='notion-selectable notion-page-block notion-collection-item']\")\n",
    "print(len(items))"
   ]
  },
  {
   "cell_type": "code",
   "execution_count": 14,
   "id": "3939862e-6f2b-406c-a5c3-e71330ac7e56",
   "metadata": {},
   "outputs": [
    {
     "name": "stdout",
     "output_type": "stream",
     "text": [
      "/Aalto-Alvar-419a0fbc0e5d4ec59ca6c7fb811446f8?pvs=25\n"
     ]
    }
   ],
   "source": [
    "# Find link of the first item\n",
    "link = items[0].cssselect(\"a\")[0]\n",
    "print(link.get('href'))"
   ]
  },
  {
   "cell_type": "code",
   "execution_count": 18,
   "id": "460eebe8-410e-427d-8ecc-36662d863bdf",
   "metadata": {},
   "outputs": [
    {
     "name": "stdout",
     "output_type": "stream",
     "text": [
      "https://proximacentaurib.notion.site/Aalto-Alvar-419a0fbc0e5d4ec59ca6c7fb811446f8?pvs=25\n",
      "1659\n"
     ]
    }
   ],
   "source": [
    "# Get links of all items\n",
    "links = []\n",
    "\n",
    "for item in items:\n",
    "    links.append('https://proximacentaurib.notion.site' + item.cssselect(\"a\")[0].get(\"href\"))\n",
    "\n",
    "print(links[0])\n",
    "print(len(links))"
   ]
  },
  {
   "cell_type": "code",
   "execution_count": 32,
   "id": "823994c3-5319-4eb0-8b98-6b259c3b3825",
   "metadata": {},
   "outputs": [
    {
     "name": "stdout",
     "output_type": "stream",
     "text": [
      "b'<!doctype html><html class=\"notion-html\"><head lang=\"en\"><meta charset=\"utf-8\"><meta name=\"viewport\" content=\"width=device-width,height=device-height,initial-scale=1,maximum-scale=1,user-scalable=no,viewport-fit=cover\"><title>Notion \\xe2\\x80\\x93 The all-in-one workspace for your notes, tasks, wikis, and databases.</title><meta name=\"description\" content=\"A new tool that blends your everyday work apps into one. It\\'s the all-in-one workspace for you and your team\"><noscript><meta http-equiv=\"refresh\" content=\"0;url=https://www.notion.so/disabled-javascript.html\"></noscript><script>var ua=window.navigator.userAgent,isEdgeHTML=/Windows.*Edge/i.test(ua),isChrome=!isEdgeHTML&&/Chrome/i.test(ua),isSafari=!isEdgeHTML&&!isChrome&&/Safari/i.test(ua),isFirefox=/Firefox/i.test(ua),isIE=/Trident/i.test(ua);function isUnsupportedBrowser(){var e;if(isChrome){if((e=ua.match(/Chrome\\\\/(\\\\d+)/i))&&e[1])return parseInt(e[1],10)<=84}else if(isSafari){if((e=ua.match(/Version\\\\/(\\\\d+)/i))&&e[1])return parseInt(e[1],10)<=13}else if(isFirefox){if((e=ua.match(/Firefox\\\\/(\\\\d+)/i))&&e[1])return parseInt(e[1],10)<=114}else{if(isEdgeHTML)return!0;if(isIE)return!0}return!1}isUnsupportedBrowser()&&window.location.replace(\"/unsupported-browser.html\")</script><script>window.__webStartTime=performance.now(),performance.mark(\"__webStartTime\")</script><meta name=\"twitter:card\" content=\"summary_large_image\"><meta name=\"twitter:site\" content=\"@NotionHQ\"><meta name=\"twitter:title\" content=\"Notion \\xe2\\x80\\x93 The all-in-one workspace for your notes, tasks, wikis, and databases.\"><meta name=\"twitter:description\" content=\"A new tool that blends your everyday work apps into one. It\\'s the all-in-one workspace for you and your team\"><meta name=\"twitter:url\" content=\"https://www.notion.so\"><meta name=\"twitter:image\" content=\"https://www.notion.so/images/meta/default.png\"><meta property=\"og:site_name\" content=\"Notion\"><meta property=\"og:type\" content=\"website\"><meta property=\"og:url\" content=\"https://www.notion.so\"><meta property=\"og:title\" content=\"Notion \\xe2\\x80\\x93 The all-in-one workspace for your notes, tasks, wikis, and databases.\"><meta property=\"og:description\" content=\"A new tool that blends your everyday work apps into one. It\\'s the all-in-one workspace for you and your team\"><meta property=\"og:image\" content=\"https://www.notion.so/images/meta/default.png\"><meta property=\"og:locale\" content=\"en_US\"><link rel=\"shortcut icon\" type=\"image/x-icon\" href=\"/images/favicon.ico\"><link rel=\"apple-touch-icon\" href=\"/images/logo-ios.png\"><meta name=\"apple-mobile-web-app-capable\" content=\"yes\"><meta name=\"apple-itunes-app\" content=\"app-id=1232780281\"><meta name=\"format-detection\" content=\"telephone=no\"><meta name=\"msapplication-tap-highlight\" content=\"no\"><link href=\"/print.f2ad22d6.css\" rel=\"stylesheet\" media=\"print\"><style>body{background:#fff}body.dark{background:#191919}@keyframes startup-shimmer-animation{0%{transform:translateX(-100%) translateZ(0)}100%{transform:translateX(100%) translateZ(0)}}@keyframes startup-shimmer-fade-in{0%{opacity:0}100%{opacity:1}}@keyframes startup-spinner-rotate{0%{transform:rotate(0) translateZ(0)}100%{transform:rotate(360deg) translateZ(0)}}#initial-loading-spinner{position:fixed;height:100vh;width:100vw;z-index:-1;display:none;align-items:center;justify-content:center;opacity:.5}#initial-loading-spinner svg{height:24px;width:24px;animation:startup-spinner-rotate 1s linear infinite;transform-origin:center center;pointer-events:none}#skeleton{background:#fff;position:fixed;height:100vh;width:100vw;z-index:-1;display:none;overflow:hidden}#initial-loading-spinner.show,#skeleton.show{display:flex}body.dark #skeleton{background:#191919}.notion-front-page #skeleton,.notion-mobile #skeleton{display:none}#skeleton-sidebar{background-color:#f7f7f5;box-shadow:inset -1px 0 0 0 rgba(0,0,0,.025);display:flex;width:240px;flex-direction:column;padding:12px 14px;overflow:hidden}body.dark #skeleton-sidebar{background-color:#202020;box-shadow:inset -1px 0 0 0 rgba(255,255,255,.05)}#skeleton.isElectron #skeleton-sidebar{padding-top:46px}#skeleton .row{display:flex;margin-bottom:11px;align-items:center}#skeleton .row.fadein{animation:1s ease-in 0s 1 normal both running startup-shimmer-fade-in}#skeleton .chevron{width:12px;height:12px;display:block;margin-right:4px;fill:rgba(227,226,224,.5)}body.dark #skeleton .chevron{fill:#2f2f2f}.startup-shimmer{background:rgba(227,226,224,.5);overflow:hidden;position:relative}body.dark .startup-shimmer{background:#2f2f2f}.startup-shimmer::before{content:\"\";position:absolute;height:100%;width:100%;z-index:1;animation:1s linear infinite startup-shimmer-animation;background:linear-gradient(90deg,rgba(0,0,0,0) 0,rgba(0,0,0,.03) 50%,rgba(0,0,0,0) 100%)}body.dark .startup-shimmer::before{background:linear-gradient(90deg,transparent 0,rgba(86,86,86,.1) 50%,transparent 100%)}#skeleton .icon{width:20px;height:20px;border-radius:4px}#skeleton .text{height:10px;border-radius:10px}#skeleton .draggable{-webkit-app-region:drag;position:absolute;top:0;left:0;width:100%;height:36px;display:none}#skeleton.isElectron .draggable{display:block}</style><script defer=\"defer\" src=\"/_assets/ClientFramework-aae308dd3984640b.js\"></script><script defer=\"defer\" src=\"/_assets/54167-6de010eba51a3ee4.js\"></script><script defer=\"defer\" src=\"/_assets/86236-33103d0b2e74f943.js\"></script><script defer=\"defer\" src=\"/_assets/36727-5b8d4f2b54972719.js\"></script><script defer=\"defer\" src=\"/_assets/app-91cd01e0072df96a.js\"></script><link href=\"/_assets/app-f148c9c2198e0700.css\" rel=\"stylesheet\"></head><body class=\"notion-body\"><script type=\"application/json\" id=\"theme-data\">{\"mode\":\"<<DEFAULT_THEME>>\"}</script><script>var theme=\"light\",localTheme=localStorage.getItem(\"theme\");if(localTheme)try{(parsed=JSON.parse(localTheme))&&parsed.mode&&(theme=parsed.mode)}catch(e){}var parsed,themeData=document.getElementById(\"theme-data\");if(themeData)try{(parsed=JSON.parse(themeData.textContent))&&\"<<DEFAULT_THEME>>\"!==parsed.mode&&(theme=parsed.mode,window.notionTheme=theme)}catch(e){}\"dark\"===theme&&document.body.classList.add(\"dark\")</script><div id=\"initial-loading-spinner\"><svg xmlns=\"http://www.w3.org/2000/svg\" viewBox=\"0 0 24 24\"><defs><linearGradient x1=\"28.1542969%\" y1=\"63.7402344%\" x2=\"74.6289062%\" y2=\"17.7832031%\" id=\"linearGradient-1\"><stop stop-color=\"rgba(164, 164, 164, 1)\" offset=\"0%\"/><stop stop-color=\"rgba(164, 164, 164, 0)\" stop-opacity=\"0\" offset=\"100%\"/></linearGradient></defs><g stroke=\"none\" stroke-width=\"1\" fill=\"none\"><g transform=\"translate(-236.000000, -286.000000)\"><g transform=\"translate(238.000000, 286.000000)\"><circle id=\"Oval-2\" stroke=\"url(#linearGradient-1)\" stroke-width=\"4\" cx=\"10\" cy=\"12\" r=\"10\"/><path d=\"M10,2 C4.4771525,2 0,6.4771525 0,12\" id=\"Oval-2\" stroke=\"rgba(164, 164, 164, 1)\" stroke-width=\"4\"/><rect id=\"Rectangle-1\" fill=\"rgba(164, 164, 164, 1)\" x=\"8\" y=\"0\" width=\"4\" height=\"4\" rx=\"8\"/></g></g></g></svg></div><div id=\"skeleton\" role=\"progressbar\" aria-valuetext=\"Loading...\"><div id=\"skeleton-sidebar\"><div class=\"row\" style=\"margin-bottom:22px\"><div class=\"startup-shimmer icon\" style=\"width:22px;height:22px;padding:1px\"></div><div class=\"startup-shimmer text\" style=\"width:177px;margin-left:8px\"></div></div><div class=\"row\" style=\"margin-bottom:20px\"><div class=\"startup-shimmer text\" style=\"width:78px\"></div></div><div class=\"row\" style=\"margin-bottom:20px\"><div class=\"startup-shimmer text\" style=\"width:78px\"></div></div><div class=\"row\" style=\"margin-bottom:20px\"><div class=\"startup-shimmer text\" style=\"width:78px\"></div></div><div class=\"row\" style=\"margin-bottom:36px\"><div class=\"startup-shimmer text\" style=\"width:135px\"></div></div><div class=\"row\" style=\"margin-bottom:14px\"><div class=\"startup-shimmer text\" style=\"width:56px\"></div></div><div class=\"row\"><div class=\"startup-shimmer icon\"></div><div class=\"startup-shimmer text\" style=\"width:120px;margin-left:8px\"></div></div><div class=\"row\"><div class=\"startup-shimmer icon\"></div><div class=\"startup-shimmer text\" style=\"width:100px;margin-left:8px\"></div></div><div class=\"row\"><div class=\"startup-shimmer icon\"></div><div class=\"startup-shimmer text\" style=\"width:140px;margin-left:8px\"></div></div><div class=\"row\"><div class=\"startup-shimmer icon\"></div><div class=\"startup-shimmer text\" style=\"width:100px;margin-left:8px\"></div></div><div class=\"row fadein\" style=\"animation-delay:1s\"><div class=\"startup-shimmer icon\"></div><div class=\"startup-shimmer text\" style=\"width:100px;margin-left:8px\"></div></div><div class=\"row fadein\" style=\"animation-delay:1s\"><div class=\"startup-shimmer icon\"></div><div class=\"startup-shimmer text\" style=\"width:80px;margin-left:8px\"></div></div><div class=\"row fadein\" style=\"animation-delay:1s\"><div class=\"startup-shimmer icon\"></div><div class=\"startup-shimmer text\" style=\"width:120px;margin-left:8px\"></div></div><div class=\"row fadein\" style=\"animation-delay:1s\"><div class=\"startup-shimmer icon\"></div><div class=\"startup-shimmer text\" style=\"width:80px;margin-left:8px\"></div></div><div class=\"row fadein\" style=\"animation-delay:2s\"><div class=\"startup-shimmer icon\"></div><div class=\"startup-shimmer text\" style=\"width:80px;margin-left:8px\"></div></div><div class=\"row fadein\" style=\"animation-delay:2s\"><div class=\"startup-shimmer icon\"></div><div class=\"startup-shimmer text\" style=\"width:120px;margin-left:8px\"></div></div><div class=\"row fadein\" style=\"animation-delay:2s\"><div class=\"startup-shimmer icon\"></div><div class=\"startup-shimmer text\" style=\"width:80px;margin-left:8px\"></div></div><div class=\"row fadein\" style=\"animation-delay:2s\"><div class=\"startup-shimmer icon\"></div><div class=\"startup-shimmer text\" style=\"width:140px;margin-left:8px\"></div></div><div class=\"row fadein\" style=\"animation-delay:3s\"><div class=\"startup-shimmer icon\"></div><div class=\"startup-shimmer text\" style=\"width:140px;margin-left:8px\"></div></div><div class=\"row fadein\" style=\"animation-delay:3s\"><div class=\"startup-shimmer icon\"></div><div class=\"startup-shimmer text\" style=\"width:140px;margin-left:8px\"></div></div><div class=\"row fadein\" style=\"animation-delay:3s\"><div class=\"startup-shimmer icon\"></div><div class=\"startup-shimmer text\" style=\"width:80px;margin-left:8px\"></div></div><div class=\"row fadein\" style=\"animation-delay:3s\"><div class=\"startup-shimmer icon\"></div><div class=\"startup-shimmer text\" style=\"width:120px;margin-left:8px\"></div></div><div class=\"row fadein\" style=\"animation-delay:4s\"><div class=\"startup-shimmer icon\"></div><div class=\"startup-shimmer text\" style=\"width:100px;margin-left:8px\"></div></div><div class=\"row fadein\" style=\"animation-delay:4s\"><div class=\"startup-shimmer icon\"></div><div class=\"startup-shimmer text\" style=\"width:100px;margin-left:8px\"></div></div><div class=\"row fadein\" style=\"animation-delay:4s\"><div class=\"startup-shimmer icon\"></div><div class=\"startup-shimmer text\" style=\"width:120px;margin-left:8px\"></div></div><div class=\"row fadein\" style=\"animation-delay:4s\"><div class=\"startup-shimmer icon\"></div><div class=\"startup-shimmer text\" style=\"width:120px;margin-left:8px\"></div></div></div><div style=\"flex-grow:1;position:relative\"><div class=\"row\" style=\"position:absolute;top:0;left:0;padding:12px 16px\"><div class=\"startup-shimmer icon\" style=\"width:20px;height:20px\"></div><div class=\"startup-shimmer text\" style=\"width:78px;margin-left:8px\"></div></div><div class=\"row\" style=\"position:absolute;top:0;right:0;padding:12px 16px\"><div class=\"startup-shimmer text\" style=\"width:78px;margin:6px 0\"></div></div></div><div class=\"draggable\"></div></div><script>(t=>{function e(e){e=t.localStorage&&t.localStorage.getItem(e),e=e&&JSON.parse(e);if(e&&e.value)return e.value}var i=document.getElementById(\"skeleton\"),d=document.getElementById(\"skeleton-sidebar\"),n=document.getElementById(\"initial-loading-spinner\"),o=e(\"LRU:KeyValueStore2:sidebar\"),a=e(\"LRU:KeyValueStore2:current-user-id\"),l=\"undefined\"!=typeof global||t.__isElectron,r=/ReactNative|MobileNative|Android|iPad|iPhone|iPod|Windows Phone/.test(navigator.userAgent);!i||void 0===a||r||l?n&&n.classList.add(\"show\"):(i.classList.add(\"show\"),d&&o&&(!1===o.expanded&&d.remove(),0<o.width&&(d.style.width=String(o.width)+\"px\")))})(window)</script><style id=\"scroll-properties\"></style><div id=\"notion-app\"></div><script>window.CONFIG={env:\"production\",isAdminMode:!1,isDevelopingInAirplaneMode:!1,isLocalhost:!1,offline:!0,version:\"23.13.0.536\",buildTarget:\"client\",domainBaseUrl:\"https://www.notion.so\",adminUrl:\"https://admin.notion.so\",publicDomainName:\"notion.site\",protocol:\"notion\",staticS3:{url:\"https://prod-notion-assets.s3-us-west-2.amazonaws.com\",bucket:\"prod-notion-assets\"},lastUpdatedTime:1730279876035,api:{http:\"/api/v3\"},googleOAuth:{clientId:\"905154081809-858sm3f0qnalqd9d44d9gecjtrdji9tf.apps.googleusercontent.com\"},messageStore:{url:\"https://msgstore.www.notion.so\",api:\"/api/v1\"},audioProcessor:{url:\"https://audioprocessor.www.notion.so\",api:\"/api/v1\"},stripe:{key:\"pk_live_vuNO27XGTCbXjVwneiECILjT\"},calendar:{domainBaseUrl:\"https://calendar.notion.so\",notionAuthUrl:\"https://calendar.notion.so/notion-auth\",openNotionDatabaseUrl:\"https://calendar.notion.so/open-notion-database\",createEventUrl:\"https://calendar.notion.so/event/create\",calendarSettingsUrl:\"https://calendar.notion.so/settings/calendars\",desktopProtocol:\"cron\",downloadUrl:\"https://www.notion.so/calendar/download\"},zoom:{desktopProtocol:\"zoommtg\"},cron:{domainBaseUrl:\"https://calendar.cron.com\"},mail:{apiBaseUrl:\"https://api.mail.notion.so\",domainBaseUrl:\"https://mail.notion.so\",protocol:\"notionmail\"},identity:{domainBaseUrl:\"https://identity.notion.so\"},revenueCat:{apiResponseMaxAge:6048e5,entitlementIDs:{personal:\"notion.id.personal_pro\"},productIDs:{personal:{monthly:\"notion.id.personal_pro_monthly\",yearly:\"notion.id.personal_pro_yearly\"}}},mutiny:{personalKey:\"1149e901f65fc47c\"},partnerStack:{apiKey:\"pk_6nwYfqCKEoPt2lTuU8Veswm2zArJ3Apq\"},segment:{writeKey:\"g1mMn2qquRcv7exBIVDivoKl9cOrdxLA\"},pricing:{invoiceDaysUntilDue:30,free:{spaceBlockLimit:1e3,fileUploadMaxBytes:5e6},team_free:{spaceBlockLimit:1e3,fileUploadMaxBytes:5e6},personal_free:{fileUploadMaxBytes:5e6},student:{productId:\"prod_FhChFoDp7gS1Ba\"},personal:{productId:\"prod_CpavZFCbxF2YGx\",monthlyPrice:500,yearlyPrice:4800},plus:{productId:\"prod_CpawK4ih14xs4t\",monthlyPricePerMember:1e3,yearlyPricePerMember:9600},business:{productId:\"prod_LEnFERYcTgENz8\",monthlyPricePerMember:1800,yearlyPricePerMember:18e3},enterprise:{productId:\"prod_Cpb8M1AFEFhdy1\",monthlyPricePerMember:2500,yearlyPricePerMember:24e3},ai:{productId:\"prod_N6tyEr9FFSTXJo\",monthlyPricePerMember:1e3,yearlyPricePerMember:9600},sites_custom_hostnames:{productId:\"prod_Q71ZOab5K7GTYc\"}},trials:{default:{duration:14},enterprise:{duration:30},mm_ent:{duration:30},upwork:{duration:30},perfmark:{duration:30},reverse:{duration:14},reverse_mm_ent:{duration:30}},desktopS3:{url:\"https://s3-us-west-2.amazonaws.com/desktop-release.notion-static.com\"},publicFileS3:{url:\"https://s3-us-west-2.amazonaws.com/public.notion-static.com\",bucket:\"public.notion-static.com\"},temporaryFileS3:{url:\"https://s3-us-west-2.amazonaws.com/temporary.notion-static.com\",bucket:\"temporary.notion-static.com\"},secureFileS3:{url:\"https://s3-us-west-2.amazonaws.com/secure.notion-static.com\",bucket:\"secure.notion-static.com\"},secureFileS3V2:{url:\"https://prod-files-secure.s3.us-west-2.amazonaws.com\",bucket:\"prod-files-secure\"},secureFileConfig:{origins:{s:\"secure.notion-static.com\",f:\"prod-files-secure\"},s3BaseDomainName:\"s3.us-west-2.amazonaws.com\",rootPath:\"/f\",protocol:\"https\",hostname:\"file.notion.so\"},loggly:{token:\"9b01b08e-c969-4e27-837c-805d1fc6ec7b\"},splunk:{token:\"EA76605A-F565-4B17-A496-34435622A1EB\"},embedly:{key:\"421626497c5d4fc2ae6b075189d602a2\"},iframely:{key:\"222a85036317ca50d3ba5f321bfda6f0\"},iframely_prod:{key:\"656ac74fac4fff346b811dca7919d483\"},aif:{url:\"https://aif.notion.so/aif-production.html\"},contentful:{spaceId:\"spoqsaf9291f\"},iOSAppId:1232780281,facebook:{pixelId:\"499229960464487\"},statsig:{apiKey:\"client-Tgza5wNFa8dVt9BdeUfG6Vkm29bHxX10MhoztTMzLBB\"},googleReCaptcha:{siteKey:\"6LcvqigfAAAAAPaPL3j2YLldFcZVGwKvG9TmjDgK\"},turnstile:{sitekey:\"0x4AAAAAAADLq8YYJOHc6qqw\"},google:{clientId:\"905154081809-858sm3f0qnalqd9d44d9gecjtrdji9tf.apps.googleusercontent.com\"},sprig:{environmentId:\"2HKBN1wgCwHr\"},front:{domainBaseUrl:\"https://www.notion.com\"},imageProxy:{baseUrl:\"https://img.notionusercontent.com/\"}}</script></body></html>'\n"
     ]
    }
   ],
   "source": [
    "import requests\n",
    "\n",
    "response = requests.get(\"https://proximacentaurib.notion.site/Aalto-Alvar-419a0fbc0e5d4ec59ca6c7fb811446f8?pvs=25\")\n",
    "print(response.content)"
   ]
  },
  {
   "cell_type": "code",
   "execution_count": 41,
   "id": "7ae2519b-14ab-4904-9ab6-70af41c7968e",
   "metadata": {},
   "outputs": [
    {
     "name": "stdout",
     "output_type": "stream",
     "text": [
      "<Element html at 0x788820d03880>\n"
     ]
    }
   ],
   "source": [
    "from lxml import html\n",
    "\n",
    "parser = etree.HTMLParser()\n",
    "parsed_content = etree.fromstring(response.content, parser=parser)\n",
    "print(parsed_content)"
   ]
  },
  {
   "cell_type": "code",
   "execution_count": 42,
   "id": "3cdd6127-22d3-4e58-87af-dd59bd4fb8fb",
   "metadata": {},
   "outputs": [
    {
     "name": "stdout",
     "output_type": "stream",
     "text": [
      "0\n"
     ]
    }
   ],
   "source": [
    "image_block = parsed_content.cssselect(\"div[class*='notion-selectable notion-column_list-block']\")\n",
    "print(len(image_block))"
   ]
  },
  {
   "cell_type": "code",
   "execution_count": null,
   "id": "0efef4f1-aacd-47d5-9024-102a02bfd264",
   "metadata": {},
   "outputs": [],
   "source": []
  }
 ],
 "metadata": {
  "kernelspec": {
   "display_name": "Python 3 (ipykernel)",
   "language": "python",
   "name": "python3"
  },
  "language_info": {
   "codemirror_mode": {
    "name": "ipython",
    "version": 3
   },
   "file_extension": ".py",
   "mimetype": "text/x-python",
   "name": "python",
   "nbconvert_exporter": "python",
   "pygments_lexer": "ipython3",
   "version": "3.12.3"
  }
 },
 "nbformat": 4,
 "nbformat_minor": 5
}
